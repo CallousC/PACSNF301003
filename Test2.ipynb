{
 "cells": [
  {
   "cell_type": "code",
   "execution_count": 1,
   "id": "7be04ce1",
   "metadata": {},
   "outputs": [],
   "source": [
    "import pandas as pd\n",
    "import numpy as np\n",
    "from sklearn.model_selection import cross_val_score, cross_val_predict\n",
    "from sklearn.pipeline import make_pipeline\n",
    "from sklearn.neighbors import KNeighborsClassifier\n",
    "from sklearn import metrics\n",
    "import matplotlib.pyplot as plt\n",
    "import seaborn as sns"
   ]
  },
  {
   "cell_type": "code",
   "execution_count": 2,
   "id": "0b2eb65d",
   "metadata": {},
   "outputs": [],
   "source": [
    "def hex_to_int(x):\n",
    "    return int(x, 16)\n",
    "\n",
    "input_file = 'merged_data.csv'"
   ]
  },
  {
   "cell_type": "code",
   "execution_count": 3,
   "id": "0727faf8",
   "metadata": {},
   "outputs": [],
   "source": [
    "def load_data(test_split = 0.2):\n",
    "    print ('Loading data...')\n",
    "    df = pd.read_csv(input_file)\n",
    "    train_size = int(len(df) * (1 - test_split))\n",
    "    df['SHA1'] = df['SHA1'].apply(hex_to_int)\n",
    "\n",
    "    select_features=['BaseOfCode','BaseOfData','Characteristics','Entropy','FileAlignment',\n",
    "                     'ImageBase','Machine','Magic',\n",
    "                     'NumberOfRvaAndSizes','NumberOfSections','NumberOfSymbols','PE_TYPE',\n",
    "                     'PointerToSymbolTable','SHA1','Size','SizeOfCode','SizeOfHeaders','SizeOfImage',\n",
    "                     'SizeOfInitializedData','SizeOfOptionalHeader','SizeOfUninitializedData',\n",
    "                     'TimeDateStamp']\n",
    "    select_df = df[select_features]\n",
    "    X_train = select_df.values[:train_size]\n",
    "    y_train = np.array(df['label'].values[:train_size])\n",
    "    X_test = np.array(select_df.values[train_size:])\n",
    "    y_test = np.array(df['label'].values[train_size:])\n",
    "\n",
    "    return X_train, y_train, X_test, y_test"
   ]
  },
  {
   "cell_type": "code",
   "execution_count": 4,
   "id": "7511ef54",
   "metadata": {},
   "outputs": [],
   "source": [
    "def _plot_model():\n",
    "    fig = plt.figure(figsize=(7,7))\n",
    "    ax = fig.add_subplot(111)\n",
    "    sns.heatmap(metrics.confusion_matrix(y_test, y_prediction),\n",
    "            cmap=\"GnBu\", square=True, ax=ax)\n",
    "    ax.set_title('Heatmap: Confusion Matrix for \\nKNN Classifier Model')\n",
    "    ax.set_xlabel('Predicted ')\n",
    "    ax.set_ylabel('Actual ')\n",
    "    plt.show()\n",
    "\n",
    "def get_metrices():\n",
    "    print (metrics.classification_report(y_test, y_prediction))"
   ]
  },
  {
   "cell_type": "code",
   "execution_count": 5,
   "id": "29c5b2db",
   "metadata": {},
   "outputs": [
    {
     "name": "stdout",
     "output_type": "stream",
     "text": [
      "Loading data...\n",
      "KNeighborsClassifier(n_neighbors=2)\n",
      "0.5\n",
      "              precision    recall  f1-score   support\n",
      "\n",
      "           0       0.50      0.76      0.60        99\n",
      "           1       0.51      0.25      0.33       101\n",
      "\n",
      "    accuracy                           0.50       200\n",
      "   macro avg       0.50      0.50      0.47       200\n",
      "weighted avg       0.50      0.50      0.47       200\n",
      "\n"
     ]
    },
    {
     "name": "stderr",
     "output_type": "stream",
     "text": [
      "C:\\Users\\chich\\anaconda3\\lib\\site-packages\\sklearn\\neighbors\\_classification.py:228: FutureWarning: Unlike other reduction functions (e.g. `skew`, `kurtosis`), the default behavior of `mode` typically preserves the axis it acts along. In SciPy 1.11.0, this behavior will change: the default value of `keepdims` will become False, the `axis` over which the statistic is taken will be eliminated, and the value None will no longer be accepted. Set `keepdims` to True or False to avoid this warning.\n",
      "  mode, _ = stats.mode(_y[neigh_ind, k], axis=1)\n",
      "C:\\Users\\chich\\anaconda3\\lib\\site-packages\\sklearn\\neighbors\\_classification.py:228: FutureWarning: Unlike other reduction functions (e.g. `skew`, `kurtosis`), the default behavior of `mode` typically preserves the axis it acts along. In SciPy 1.11.0, this behavior will change: the default value of `keepdims` will become False, the `axis` over which the statistic is taken will be eliminated, and the value None will no longer be accepted. Set `keepdims` to True or False to avoid this warning.\n",
      "  mode, _ = stats.mode(_y[neigh_ind, k], axis=1)\n"
     ]
    },
    {
     "data": {
      "image/png": "[encoded data removed]",
      "text/plain": [
       "<Figure size 700x700 with 2 Axes>"
      ]
     },
     "metadata": {},
     "output_type": "display_data"
    }
   ],
   "source": [
    "X_train, y_train, X_test, y_test = load_data()\n",
    "\n",
    "#training Step\n",
    "knc = KNeighborsClassifier(n_neighbors=2)\n",
    "knc.fit(X_train, y_train)\n",
    "print(knc)\n",
    "\n",
    "\n",
    "y_prediction = knc.predict(X_test)\n",
    "print (knc.score(X_test,y_test))\n",
    "\n",
    "get_metrices()\n",
    "\n",
    "_plot_model()\n"
   ]
  },
  {
   "cell_type": "code",
   "execution_count": null,
   "id": "ee34a3b6",
   "metadata": {},
   "outputs": [],
   "source": []
  }
 ],
 "metadata": {
  "kernelspec": {
   "display_name": "Python 3 (ipykernel)",
   "language": "python",
   "name": "python3"
  },
  "language_info": {
   "codemirror_mode": {
    "name": "ipython",
    "version": 3
   },
   "file_extension": ".py",
   "mimetype": "text/x-python",
   "name": "python",
   "nbconvert_exporter": "python",
   "pygments_lexer": "ipython3",
   "version": "3.9.13"
  }
 },
 "nbformat": 4,
 "nbformat_minor": 5
}
